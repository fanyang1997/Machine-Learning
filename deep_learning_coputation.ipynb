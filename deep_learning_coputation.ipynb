{
 "cells": [
  {
   "cell_type": "markdown",
   "metadata": {
    "colab_type": "text",
    "id": "view-in-github"
   },
   "source": [
    "<a href=\"https://colab.research.google.com/github/joeytai/Machine-Learning/blob/main/deep_learning_coputation.ipynb\" target=\"_parent\"><img src=\"https://colab.research.google.com/assets/colab-badge.svg\" alt=\"Open In Colab\"/></a>"
   ]
  },
  {
   "cell_type": "code",
   "execution_count": 1,
   "metadata": {
    "id": "vH8uyYIMwx49"
   },
   "outputs": [],
   "source": [
    "import tensorflow as tf\r\n",
    "import numpy as np"
   ]
  },
  {
   "cell_type": "code",
   "execution_count": 2,
   "metadata": {
    "id": "LSQi6PkPw5g-"
   },
   "outputs": [],
   "source": [
    "class MLP(tf.keras.Model):\r\n",
    "    def __init__(self):\r\n",
    "        super().__init__()\r\n",
    "        self.flatten = tf.keras.layers.Flatten()    # Flatten层将除第一维（batch_size）以外的维度展平\r\n",
    "        self.dense1 = tf.keras.layers.Dense(units=256, activation=tf.nn.relu)\r\n",
    "        self.dense2 = tf.keras.layers.Dense(units=10)\r\n",
    "\r\n",
    "    def call(self, inputs):         \r\n",
    "        x = self.flatten(inputs)   \r\n",
    "        x = self.dense1(x)    \r\n",
    "        output = self.dense2(x)     \r\n",
    "        return output"
   ]
  },
  {
   "cell_type": "code",
   "execution_count": 3,
   "metadata": {
    "colab": {
     "base_uri": "https://localhost:8080/"
    },
    "id": "ydQcEb_lw8kw",
    "outputId": "2c9885f8-bdca-4e93-961d-91fe032a436f"
   },
   "outputs": [
    {
     "data": {
      "text/plain": [
       "<tf.Tensor: shape=(2, 10), dtype=float32, numpy=\n",
       "array([[ 0.04693116, -0.23327768, -0.30495134, -0.43888274,  0.40469113,\n",
       "        -0.01286435, -0.12361967,  0.1569949 , -0.10138083,  0.11648329],\n",
       "       [ 0.0966709 , -0.23705988, -0.20090276,  0.13870953,  0.07123503,\n",
       "         0.13743114, -0.02035983,  0.17959478, -0.01121364,  0.02419421]],\n",
       "      dtype=float32)>"
      ]
     },
     "execution_count": 3,
     "metadata": {
      "tags": []
     },
     "output_type": "execute_result"
    }
   ],
   "source": [
    "X = tf.random.uniform((2, 20))\r\n",
    "net = MLP()\r\n",
    "net(X)"
   ]
  },
  {
   "cell_type": "code",
   "execution_count": 4,
   "metadata": {
    "colab": {
     "base_uri": "https://localhost:8080/"
    },
    "id": "z1pzkPmTw8_u",
    "outputId": "0f10f1dc-6adb-4683-ba59-0f212399e952"
   },
   "outputs": [
    {
     "data": {
      "text/plain": [
       "<tf.Tensor: shape=(2, 10), dtype=float32, numpy=\n",
       "array([[ 0.00871513,  0.04244428, -0.06021744, -0.00070914, -0.00056697,\n",
       "         0.13082618,  0.03810381,  0.02050602, -0.30404443, -0.4151866 ],\n",
       "       [-0.1631701 , -0.16196717, -0.04597501,  0.04102934, -0.23793451,\n",
       "        -0.09990399,  0.11620714, -0.19022998,  0.04731763,  0.06847502]],\n",
       "      dtype=float32)>"
      ]
     },
     "execution_count": 4,
     "metadata": {
      "tags": []
     },
     "output_type": "execute_result"
    }
   ],
   "source": [
    "model = tf.keras.models.Sequential([\r\n",
    "  tf.keras.layers.Flatten(),\r\n",
    "  tf.keras.layers.Dense(256, activation=tf.nn.relu),\r\n",
    "  tf.keras.layers.Dense(10),\r\n",
    "])\r\n",
    "\r\n",
    "model(X)"
   ]
  },
  {
   "cell_type": "code",
   "execution_count": 6,
   "metadata": {
    "id": "1g5WjL7Qw_ON"
   },
   "outputs": [],
   "source": [
    "class FancyMLP(tf.keras.Model):\r\n",
    "  def __init__(self):\r\n",
    "    super().__init__()\r\n",
    "    self.flatten = tf.keras.layers.Flatten()\r\n",
    "    self.rand_weight = tf.constant(\r\n",
    "        tf.random.uniform((20, 20))\r\n",
    "    )\r\n",
    "    self.dense = tf.keras.layers.Dense(units=20, activation=tf.nn.relu)\r\n",
    "\r\n",
    "  def call(self, inputs):\r\n",
    "    x = self.flatten(inputs)\r\n",
    "    x = tf.nn.relu(tf.matmul(x, self.rand_weight) + 1)\r\n",
    "    x = self.dense(x)\r\n",
    "    while tf.norm(x) > 1:\r\n",
    "      x /= 2\r\n",
    "    if tf.norm(x) < 0.8:\r\n",
    "      x *= 10\r\n",
    "    return tf.reduce_sum(x)"
   ]
  },
  {
   "cell_type": "code",
   "execution_count": 7,
   "metadata": {
    "colab": {
     "base_uri": "https://localhost:8080/"
    },
    "id": "XbzeOEKhxNGu",
    "outputId": "6b9569b7-73ec-46bd-b987-6fdae172e79b"
   },
   "outputs": [
    {
     "data": {
      "text/plain": [
       "<tf.Tensor: shape=(), dtype=float32, numpy=20.15387>"
      ]
     },
     "execution_count": 7,
     "metadata": {
      "tags": []
     },
     "output_type": "execute_result"
    }
   ],
   "source": [
    "net = FancyMLP()\r\n",
    "net(X)"
   ]
  },
  {
   "cell_type": "code",
   "execution_count": 11,
   "metadata": {
    "colab": {
     "base_uri": "https://localhost:8080/"
    },
    "id": "eAy1ZmfCyGGa",
    "outputId": "2af38b1c-45f8-4e15-c9c5-4b4f0b54d516"
   },
   "outputs": [
    {
     "data": {
      "text/plain": [
       "<tf.Tensor: shape=(), dtype=float32, numpy=31.614838>"
      ]
     },
     "execution_count": 11,
     "metadata": {
      "tags": []
     },
     "output_type": "execute_result"
    }
   ],
   "source": [
    "class NestMLP(tf.keras.Model):\r\n",
    "    def __init__(self):\r\n",
    "        super().__init__()\r\n",
    "        self.net = tf.keras.Sequential()\r\n",
    "        self.net.add(tf.keras.layers.Flatten())\r\n",
    "        self.net.add(tf.keras.layers.Dense(64, activation=tf.nn.relu))\r\n",
    "        self.net.add(tf.keras.layers.Dense(32, activation=tf.nn.relu))\r\n",
    "        self.dense = tf.keras.layers.Dense(units=16, activation=tf.nn.relu)\r\n",
    "\r\n",
    "\r\n",
    "    def call(self, inputs):         \r\n",
    "        return self.dense(self.net(inputs))\r\n",
    "\r\n",
    "net = tf.keras.Sequential()\r\n",
    "net.add(NestMLP())\r\n",
    "net.add(tf.keras.layers.Dense(20))\r\n",
    "net.add(FancyMLP())\r\n",
    "\r\n",
    "net(X)\r\n"
   ]
  },
  {
   "cell_type": "code",
   "execution_count": 12,
   "metadata": {
    "colab": {
     "base_uri": "https://localhost:8080/"
    },
    "id": "m7t-v19EyOua",
    "outputId": "3f815607-43bf-4825-f170-349ca3c6a53c"
   },
   "outputs": [
    {
     "data": {
      "text/plain": [
       "<tf.Tensor: shape=(2, 10), dtype=float32, numpy=\n",
       "array([[-0.17282093,  0.14422745,  0.00898058, -0.0204713 ,  0.13752156,\n",
       "         0.09560014, -0.19112042,  0.07976672, -0.1819982 ,  0.05444624],\n",
       "       [-0.1534367 ,  0.03612772,  0.00209157,  0.11120219,  0.05699576,\n",
       "        -0.0779936 , -0.16740409, -0.06558668, -0.02283833,  0.04169314]],\n",
       "      dtype=float32)>"
      ]
     },
     "execution_count": 12,
     "metadata": {
      "tags": []
     },
     "output_type": "execute_result"
    }
   ],
   "source": [
    "net = tf.keras.models.Sequential()\r\n",
    "net.add(tf.keras.layers.Flatten())\r\n",
    "net.add(tf.keras.layers.Dense(256, activation=tf.nn.relu))\r\n",
    "net.add(tf.keras.layers.Dense(10))\r\n",
    "X = tf.random.uniform((2, 20))\r\n",
    "Y = net(X)\r\n",
    "Y"
   ]
  },
  {
   "cell_type": "code",
   "execution_count": 13,
   "metadata": {
    "colab": {
     "base_uri": "https://localhost:8080/"
    },
    "id": "VnUoxFeozSNm",
    "outputId": "e646f873-7f38-492a-f178-3d853f202785"
   },
   "outputs": [
    {
     "data": {
      "text/plain": [
       "(<tf.Variable 'dense_10/kernel:0' shape=(20, 256) dtype=float32, numpy=\n",
       " array([[ 0.11041021,  0.09746902, -0.05124407, ..., -0.06454624,\n",
       "         -0.12543985,  0.08298469],\n",
       "        [ 0.02063489, -0.08779754, -0.00265703, ..., -0.10874624,\n",
       "         -0.03617434,  0.13276383],\n",
       "        [ 0.082166  ,  0.01940548, -0.1252224 , ...,  0.02935354,\n",
       "          0.06702505,  0.11504444],\n",
       "        ...,\n",
       "        [ 0.00690691, -0.07639812, -0.07794663, ...,  0.11588246,\n",
       "          0.10227919, -0.05373617],\n",
       "        [-0.07470477,  0.09868063,  0.02368638, ..., -0.09140637,\n",
       "         -0.13551907,  0.02344511],\n",
       "        [-0.07850659, -0.10579023, -0.04959231, ...,  0.13141069,\n",
       "          0.14294717,  0.05671586]], dtype=float32)>,\n",
       " tensorflow.python.ops.resource_variable_ops.ResourceVariable)"
      ]
     },
     "execution_count": 13,
     "metadata": {
      "tags": []
     },
     "output_type": "execute_result"
    }
   ],
   "source": [
    "net.weights[0], type(net.weights[0])"
   ]
  },
  {
   "cell_type": "code",
   "execution_count": 16,
   "metadata": {
    "colab": {
     "base_uri": "https://localhost:8080/"
    },
    "id": "N4TwIHs-zxop",
    "outputId": "8f222aae-a0d1-4940-90e1-9046b9caf696"
   },
   "outputs": [
    {
     "data": {
      "text/plain": [
       "[array([[-0.01038274, -0.00571152,  0.01534244, -0.01384987,  0.00458251,\n",
       "          0.00245512, -0.00365852,  0.00596372, -0.01668887,  0.01229572],\n",
       "        [ 0.00357784, -0.00802946,  0.01164066, -0.00431414, -0.00931946,\n",
       "          0.00118658,  0.00747756, -0.00128287,  0.00267882,  0.00247838],\n",
       "        [-0.01272422,  0.00630813, -0.00114123, -0.0085734 ,  0.01396967,\n",
       "          0.00480525, -0.01302987,  0.00773505,  0.01556605, -0.00784679],\n",
       "        [-0.01375213,  0.00839786, -0.00647823, -0.00624922, -0.00842024,\n",
       "         -0.00074307,  0.0105812 , -0.02594885,  0.01524891,  0.01086135],\n",
       "        [-0.01705718, -0.01944954,  0.01360267, -0.01110792,  0.00925118,\n",
       "          0.0027647 ,  0.00489465,  0.01596266, -0.01005278,  0.0044206 ],\n",
       "        [-0.01575712, -0.01011302,  0.00572893,  0.01911316,  0.0119338 ,\n",
       "         -0.00769852, -0.00113736,  0.00041393, -0.00645461,  0.00620519],\n",
       "        [ 0.00236708,  0.00955412,  0.00404336,  0.00115007,  0.00619473,\n",
       "         -0.00271882,  0.01529975, -0.00349576, -0.00932358,  0.00773836],\n",
       "        [-0.00120339,  0.00267327,  0.01926044, -0.00258635,  0.01086778,\n",
       "         -0.02551168, -0.003834  , -0.01572427, -0.00413082,  0.01034478],\n",
       "        [-0.00544595,  0.00044282,  0.00728831, -0.02709803, -0.00537903,\n",
       "         -0.00237866, -0.01201687,  0.01181342, -0.0047867 , -0.01608923],\n",
       "        [ 0.00717493,  0.00294133,  0.00362582,  0.00385343,  0.00327123,\n",
       "          0.00101118, -0.00622601,  0.01877356,  0.01129998,  0.01109501],\n",
       "        [ 0.00246177, -0.00012177,  0.01106545, -0.01624964, -0.00570358,\n",
       "          0.00768457,  0.00513618, -0.00424963, -0.00485916, -0.00207127],\n",
       "        [-0.00060962, -0.02161232,  0.01019493, -0.00786563,  0.00300806,\n",
       "         -0.00574487, -0.01366779,  0.00181623,  0.01092107,  0.00573395],\n",
       "        [-0.00435578,  0.01153907, -0.02618405,  0.00317836, -0.01195632,\n",
       "          0.00431654,  0.00078853, -0.00180492,  0.0022054 ,  0.01062497],\n",
       "        [ 0.0020176 ,  0.00265411, -0.01326799, -0.00245805, -0.00290092,\n",
       "         -0.01538629, -0.01205201,  0.01627309, -0.01221303, -0.0201186 ],\n",
       "        [ 0.01854966, -0.00401826, -0.00071789, -0.01019192, -0.00806315,\n",
       "         -0.00200294, -0.01024944,  0.00820018,  0.01098732, -0.00792774],\n",
       "        [ 0.0024899 , -0.02022609, -0.00765506,  0.00038061,  0.00058222,\n",
       "         -0.00112617, -0.00718678, -0.00580057, -0.00367214, -0.00470039],\n",
       "        [ 0.00764151, -0.01734956,  0.01176278, -0.00262773, -0.0139161 ,\n",
       "         -0.00442934,  0.00688423,  0.00612939, -0.0015872 , -0.00684388],\n",
       "        [-0.00654243, -0.01252195, -0.02254938,  0.00323252,  0.01039172,\n",
       "          0.00070559, -0.00200059,  0.00242222,  0.02523501, -0.01683436],\n",
       "        [ 0.00343026, -0.00846416,  0.01830093,  0.01032475, -0.02034112,\n",
       "          0.00266191, -0.00092616,  0.0088184 , -0.0047267 , -0.01165275],\n",
       "        [-0.01438038,  0.01346577, -0.00221098, -0.0152373 ,  0.00595827,\n",
       "          0.00731877, -0.00572023, -0.01001376,  0.00048576, -0.00921583]],\n",
       "       dtype=float32),\n",
       " array([0., 0., 0., 0., 0., 0., 0., 0., 0., 0.], dtype=float32),\n",
       " array([[1.],\n",
       "        [1.],\n",
       "        [1.],\n",
       "        [1.],\n",
       "        [1.],\n",
       "        [1.],\n",
       "        [1.],\n",
       "        [1.],\n",
       "        [1.],\n",
       "        [1.]], dtype=float32),\n",
       " array([1.], dtype=float32)]"
      ]
     },
     "execution_count": 16,
     "metadata": {
      "tags": []
     },
     "output_type": "execute_result"
    }
   ],
   "source": [
    "class Linear(tf.keras.Model):\r\n",
    "    def __init__(self):\r\n",
    "        super().__init__()\r\n",
    "        self.d1 = tf.keras.layers.Dense(\r\n",
    "            units=10,\r\n",
    "            activation=None,\r\n",
    "            kernel_initializer=tf.random_normal_initializer(mean=0,stddev=0.01),\r\n",
    "            bias_initializer=tf.zeros_initializer()\r\n",
    "        )\r\n",
    "        self.d2 = tf.keras.layers.Dense(\r\n",
    "            units=1,\r\n",
    "            activation=None,\r\n",
    "            kernel_initializer=tf.ones_initializer(),\r\n",
    "            bias_initializer=tf.ones_initializer()\r\n",
    "        )\r\n",
    "\r\n",
    "    def call(self, input):\r\n",
    "        output = self.d1(input)\r\n",
    "        output = self.d2(output)\r\n",
    "        return output\r\n",
    "\r\n",
    "net = Linear()\r\n",
    "net(X)\r\n",
    "net.get_weights()\r\n"
   ]
  },
  {
   "cell_type": "code",
   "execution_count": 18,
   "metadata": {
    "colab": {
     "base_uri": "https://localhost:8080/"
    },
    "id": "CZYqtLa7z7L_",
    "outputId": "d5da44f5-b37a-46c1-b671-0ecc468e0930"
   },
   "outputs": [
    {
     "data": {
      "text/plain": [
       "<tf.Variable 'dense_15/kernel:0' shape=(20, 64) dtype=float32, numpy=\n",
       "array([[1., 1., 1., ..., 1., 1., 1.],\n",
       "       [1., 1., 1., ..., 1., 1., 1.],\n",
       "       [1., 1., 1., ..., 1., 1., 1.],\n",
       "       ...,\n",
       "       [1., 1., 1., ..., 1., 1., 1.],\n",
       "       [1., 1., 1., ..., 1., 1., 1.],\n",
       "       [1., 1., 1., ..., 1., 1., 1.]], dtype=float32)>"
      ]
     },
     "execution_count": 18,
     "metadata": {
      "tags": []
     },
     "output_type": "execute_result"
    }
   ],
   "source": [
    "def my_init():\r\n",
    "    return tf.keras.initializers.Ones()\r\n",
    "\r\n",
    "model = tf.keras.models.Sequential()\r\n",
    "model.add(tf.keras.layers.Dense(64, kernel_initializer=my_init()))\r\n",
    "\r\n",
    "Y = model(X)\r\n",
    "model.weights[0]\r\n"
   ]
  },
  {
   "cell_type": "code",
   "execution_count": 21,
   "metadata": {
    "id": "89VnkScW1VNw"
   },
   "outputs": [],
   "source": [
    "class CenteredLayer(tf.keras.layers.Layer):\r\n",
    "    def __init__(self):\r\n",
    "        super().__init__()\r\n",
    "\r\n",
    "    def call(self, inputs):\r\n",
    "        return inputs - tf.reduce_mean(inputs)\r\n"
   ]
  },
  {
   "cell_type": "code",
   "execution_count": 22,
   "metadata": {
    "colab": {
     "base_uri": "https://localhost:8080/"
    },
    "id": "03E53ZAc1zvG",
    "outputId": "0eb50c2c-9433-4292-e9d3-59cd27a9f8bf"
   },
   "outputs": [
    {
     "data": {
      "text/plain": [
       "<tf.Tensor: shape=(5,), dtype=int64, numpy=array([-2, -1,  0,  1,  2])>"
      ]
     },
     "execution_count": 22,
     "metadata": {
      "tags": []
     },
     "output_type": "execute_result"
    }
   ],
   "source": [
    "layer = CenteredLayer()\r\n",
    "layer(np.array([1, 2, 3, 4, 5]))\r\n"
   ]
  },
  {
   "cell_type": "code",
   "execution_count": 23,
   "metadata": {
    "colab": {
     "base_uri": "https://localhost:8080/"
    },
    "id": "rp32U4JI2O3a",
    "outputId": "d72d3f24-67b2-4d49-d879-2ab8846c9827"
   },
   "outputs": [
    {
     "data": {
      "text/plain": [
       "<tf.Tensor: shape=(2, 20), dtype=float32, numpy=\n",
       "array([[ 0.5924619 , -1.2163553 ,  0.28532046,  0.4458469 ,  0.53974706,\n",
       "        -0.14175072, -0.7032595 , -0.73925596,  0.3592776 , -0.42039463,\n",
       "         0.2720846 , -0.5475589 ,  0.41600516,  0.05856604, -0.30693084,\n",
       "         0.25809684,  0.30465284, -0.37964433, -0.52080506,  0.41890818],\n",
       "       [ 0.43697998, -1.1213025 ,  0.8695245 ,  0.54326355,  0.43398744,\n",
       "         0.05403411, -0.7499254 , -0.49776635,  0.4638942 , -0.04636384,\n",
       "         0.62389153, -0.8496435 ,  0.7760295 , -0.22413445, -0.44606647,\n",
       "         0.30393112,  0.4516574 , -0.27274373, -0.12636912,  0.40211   ]],\n",
       "      dtype=float32)>"
      ]
     },
     "execution_count": 23,
     "metadata": {
      "tags": []
     },
     "output_type": "execute_result"
    }
   ],
   "source": [
    "net = tf.keras.models.Sequential()\r\n",
    "net.add(tf.keras.layers.Flatten())\r\n",
    "net.add(tf.keras.layers.Dense(20))\r\n",
    "net.add(CenteredLayer())\r\n",
    "Y = net(X)\r\n",
    "Y"
   ]
  },
  {
   "cell_type": "code",
   "execution_count": 24,
   "metadata": {
    "colab": {
     "base_uri": "https://localhost:8080/"
    },
    "id": "vNdMXmdN2ehx",
    "outputId": "1e5d828e-2623-452b-89ba-80c600779d3b"
   },
   "outputs": [
    {
     "data": {
      "text/plain": [
       "<tf.Tensor: shape=(), dtype=float32, numpy=1.7881394e-08>"
      ]
     },
     "execution_count": 24,
     "metadata": {
      "tags": []
     },
     "output_type": "execute_result"
    }
   ],
   "source": [
    "tf.reduce_mean(Y)"
   ]
  },
  {
   "cell_type": "code",
   "execution_count": 28,
   "metadata": {
    "id": "zmQo5AyR2hVz"
   },
   "outputs": [],
   "source": [
    "class myDense(tf.keras.layers.Layer):\r\n",
    "    def __init__(self, units):\r\n",
    "        super().__init__()\r\n",
    "        self.units = units\r\n",
    "\r\n",
    "    def build(self, input_shape):     # 这里 input_shape 是第一次运行call()时参数inputs的形状\r\n",
    "        self.w = self.add_weight(name='w',\r\n",
    "            shape=[input_shape[-1], self.units], initializer=tf.random_normal_initializer())\r\n",
    "        self.b = self.add_weight(name='b',\r\n",
    "            shape=[self.units], initializer=tf.zeros_initializer())\r\n",
    "\r\n",
    "    def call(self, inputs):\r\n",
    "        y_pred = tf.matmul(inputs, self.w) + self.b\r\n",
    "        return y_pred\r\n"
   ]
  },
  {
   "cell_type": "code",
   "execution_count": 29,
   "metadata": {
    "colab": {
     "base_uri": "https://localhost:8080/"
    },
    "id": "UXWg3-aF2-rw",
    "outputId": "685285aa-38c7-475c-c276-c55a00ca2a88"
   },
   "outputs": [
    {
     "data": {
      "text/plain": [
       "[array([[ 0.0069718 ,  0.04860806,  0.09158918],\n",
       "        [-0.00436663, -0.01498434,  0.09659909],\n",
       "        [ 0.00804838,  0.05808023,  0.00430054],\n",
       "        [ 0.00243431,  0.00127583, -0.04561865],\n",
       "        [ 0.04949647, -0.057792  , -0.03044767],\n",
       "        [-0.0471512 ,  0.05894503,  0.00230876],\n",
       "        [-0.05126056, -0.03171474, -0.03506846],\n",
       "        [ 0.03053978,  0.06307156, -0.02951514],\n",
       "        [ 0.11178696, -0.09383656,  0.06379426],\n",
       "        [-0.0357197 , -0.06680331, -0.07077772],\n",
       "        [-0.03302739,  0.02686972,  0.02948665],\n",
       "        [-0.01119756, -0.03011241, -0.01160533],\n",
       "        [ 0.0209505 ,  0.01499623,  0.02378532],\n",
       "        [-0.00970662, -0.03041393, -0.0705054 ],\n",
       "        [ 0.05350208, -0.02728941,  0.03297651],\n",
       "        [ 0.08998615,  0.0633769 ,  0.00996308],\n",
       "        [-0.0332689 , -0.04437619,  0.07433194],\n",
       "        [ 0.05917949, -0.02663904,  0.00080485],\n",
       "        [-0.02390481,  0.00727491, -0.01747975],\n",
       "        [-0.05712789,  0.02635627, -0.01895631]], dtype=float32),\n",
       " array([0., 0., 0.], dtype=float32)]"
      ]
     },
     "execution_count": 29,
     "metadata": {
      "tags": []
     },
     "output_type": "execute_result"
    }
   ],
   "source": [
    "dense = myDense(3)\r\n",
    "dense(X)\r\n",
    "dense.get_weights()"
   ]
  },
  {
   "cell_type": "code",
   "execution_count": 31,
   "metadata": {
    "colab": {
     "base_uri": "https://localhost:8080/"
    },
    "id": "QF47uxYN3jhl",
    "outputId": "a7e8600b-3661-410f-c9c3-ef69f64a56a2"
   },
   "outputs": [
    {
     "data": {
      "text/plain": [
       "<tf.Tensor: shape=(2, 1), dtype=float32, numpy=\n",
       "array([[0.01174558],\n",
       "       [0.01667943]], dtype=float32)>"
      ]
     },
     "execution_count": 31,
     "metadata": {
      "tags": []
     },
     "output_type": "execute_result"
    }
   ],
   "source": [
    "net = tf.keras.models.Sequential()\r\n",
    "net.add(myDense(8))\r\n",
    "net.add(myDense(1))\r\n",
    "\r\n",
    "net(X)\r\n"
   ]
  },
  {
   "cell_type": "code",
   "execution_count": 33,
   "metadata": {
    "colab": {
     "base_uri": "https://localhost:8080/"
    },
    "id": "Ug720G4x4J_h",
    "outputId": "0a3cafde-2b9d-438d-dd13-69047a973bab"
   },
   "outputs": [
    {
     "data": {
      "text/plain": [
       "<tf.Tensor: shape=(3,), dtype=float32, numpy=array([1., 1., 1.], dtype=float32)>"
      ]
     },
     "execution_count": 33,
     "metadata": {
      "tags": []
     },
     "output_type": "execute_result"
    }
   ],
   "source": [
    "x = tf.ones(3)\r\n",
    "x"
   ]
  },
  {
   "cell_type": "code",
   "execution_count": 34,
   "metadata": {
    "colab": {
     "base_uri": "https://localhost:8080/"
    },
    "id": "gLjIkDsP4cIY",
    "outputId": "da3a1ec9-ddc0-4bb4-edc6-230d9e9118e4"
   },
   "outputs": [
    {
     "data": {
      "text/plain": [
       "array([1., 1., 1.], dtype=float32)"
      ]
     },
     "execution_count": 34,
     "metadata": {
      "tags": []
     },
     "output_type": "execute_result"
    }
   ],
   "source": [
    "np.save('x.npy', x)\r\n",
    "x2 = np.load('x.npy')\r\n",
    "x2"
   ]
  },
  {
   "cell_type": "code",
   "execution_count": 36,
   "metadata": {
    "colab": {
     "base_uri": "https://localhost:8080/"
    },
    "id": "9kFjpPKc43kZ",
    "outputId": "2554998c-1350-40ac-98d2-abd8605a196a"
   },
   "outputs": [
    {
     "name": "stderr",
     "output_type": "stream",
     "text": [
      "/usr/local/lib/python3.6/dist-packages/numpy/core/_asarray.py:136: VisibleDeprecationWarning: Creating an ndarray from ragged nested sequences (which is a list-or-tuple of lists-or-tuples-or ndarrays with different lengths or shapes) is deprecated. If you meant to do this, you must specify 'dtype=object' when creating the ndarray\n",
      "  return array(a, dtype, copy=False, order=order, subok=True)\n"
     ]
    },
    {
     "data": {
      "text/plain": [
       "(<tf.Tensor: shape=(3,), dtype=float32, numpy=array([1., 1., 1.], dtype=float32)>,\n",
       " <tf.Tensor: shape=(4,), dtype=float32, numpy=array([0., 0., 0., 0.], dtype=float32)>)"
      ]
     },
     "execution_count": 36,
     "metadata": {
      "tags": []
     },
     "output_type": "execute_result"
    }
   ],
   "source": [
    "y = tf.zeros(4)\r\n",
    "np.save('xy.npy',[x,y])\r\n",
    "x2, y2 = np.load('xy.npy', allow_pickle=True)\r\n",
    "(x2, y2)\r\n"
   ]
  },
  {
   "cell_type": "code",
   "execution_count": 37,
   "metadata": {
    "colab": {
     "base_uri": "https://localhost:8080/"
    },
    "id": "SKBJJVHC4_0j",
    "outputId": "ef25284a-97a5-4dda-8b1f-58536f634860"
   },
   "outputs": [
    {
     "data": {
      "text/plain": [
       "array({'x': <tf.Tensor: shape=(3,), dtype=float32, numpy=array([1., 1., 1.], dtype=float32)>, 'y': <tf.Tensor: shape=(4,), dtype=float32, numpy=array([0., 0., 0., 0.], dtype=float32)>},\n",
       "      dtype=object)"
      ]
     },
     "execution_count": 37,
     "metadata": {
      "tags": []
     },
     "output_type": "execute_result"
    }
   ],
   "source": [
    "mydict = {'x':x, 'y':y}\r\n",
    "np.save('mydict.npy', mydict)\r\n",
    "mydict2 = np.load('mydict.npy', allow_pickle=True)\r\n",
    "mydict2\r\n"
   ]
  },
  {
   "cell_type": "code",
   "execution_count": null,
   "metadata": {
    "id": "Rwt-vBLx5RDm"
   },
   "outputs": [],
   "source": []
  }
 ],
 "metadata": {
  "colab": {
   "authorship_tag": "ABX9TyPl2C2ASmtrlYTGISwya3uK",
   "include_colab_link": true,
   "name": "deep learning coputation.ipynb",
   "provenance": []
  },
  "kernelspec": {
   "display_name": "Python 3",
   "language": "python",
   "name": "python3"
  },
  "language_info": {
   "codemirror_mode": {
    "name": "ipython",
    "version": 3
   },
   "file_extension": ".py",
   "mimetype": "text/x-python",
   "name": "python",
   "nbconvert_exporter": "python",
   "pygments_lexer": "ipython3",
   "version": "3.9.2"
  }
 },
 "nbformat": 4,
 "nbformat_minor": 4
}
