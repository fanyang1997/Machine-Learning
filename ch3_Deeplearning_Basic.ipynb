{
  "nbformat": 4,
  "nbformat_minor": 0,
  "metadata": {
    "colab": {
      "name": "ch3 Deeplearning Basic.ipynb",
      "provenance": [],
      "authorship_tag": "ABX9TyMlTPMQNnFGg5SOf3q1iiNO",
      "include_colab_link": true
    },
    "kernelspec": {
      "name": "python3",
      "display_name": "Python 3"
    }
  },
  "cells": [
    {
      "cell_type": "markdown",
      "metadata": {
        "id": "view-in-github",
        "colab_type": "text"
      },
      "source": [
        "<a href=\"https://colab.research.google.com/github/joeytai/Machine-Learning/blob/main/ch3_Deeplearning_Basic.ipynb\" target=\"_parent\"><img src=\"https://colab.research.google.com/assets/colab-badge.svg\" alt=\"Open In Colab\"/></a>"
      ]
    },
    {
      "cell_type": "code",
      "metadata": {
        "id": "nCPiBD_AI391"
      },
      "source": [
        "# set house area x_1, house year x_2, house price y\r\n",
        "# build a regression model to predict house price\r\n",
        "# y = x_1 * w_1 + x_2 * w_2 + b"
      ],
      "execution_count": null,
      "outputs": []
    },
    {
      "cell_type": "markdown",
      "metadata": {
        "id": "yhvj_o2PJS9n"
      },
      "source": [
        "Loss function\r\n",
        "\r\n",
        "$L^i(w_1, w_2, b) =  \\frac{1}{2} (\\hat{y^i} - y ^i)^2$\r\n",
        "\r\n",
        "Cost function\r\n"
      ]
    },
    {
      "cell_type": "code",
      "metadata": {
        "id": "pX8GpIJXJub1"
      },
      "source": [
        "#"
      ],
      "execution_count": null,
      "outputs": []
    },
    {
      "cell_type": "code",
      "metadata": {
        "id": "UYDtyu9ZJujf"
      },
      "source": [
        "import tensorflow as tf\r\n",
        "from time import time"
      ],
      "execution_count": null,
      "outputs": []
    },
    {
      "cell_type": "code",
      "metadata": {
        "id": "Tm0oDzo2Jumc"
      },
      "source": [
        "a = tf.ones((1000, ))\r\n",
        "b = tf.ones((1000, ))"
      ],
      "execution_count": null,
      "outputs": []
    },
    {
      "cell_type": "code",
      "metadata": {
        "id": "oGf-G7HvLjAU"
      },
      "source": [
        ""
      ],
      "execution_count": null,
      "outputs": []
    },
    {
      "cell_type": "code",
      "metadata": {
        "colab": {
          "base_uri": "https://localhost:8080/"
        },
        "id": "Y15UtspUJupV",
        "outputId": "086896b7-48dd-436e-f0c7-23ba8cfe6911"
      },
      "source": [
        "start = time()\r\n",
        "c = tf.Variable(tf.zeros((1000, )))\r\n",
        "for i in range(1000):\r\n",
        "  c[i].assign(a[i] + b[i])\r\n",
        "time() - start"
      ],
      "execution_count": null,
      "outputs": [
        {
          "output_type": "execute_result",
          "data": {
            "text/plain": [
              "0.4452383518218994"
            ]
          },
          "metadata": {
            "tags": []
          },
          "execution_count": 7
        }
      ]
    },
    {
      "cell_type": "code",
      "metadata": {
        "colab": {
          "base_uri": "https://localhost:8080/"
        },
        "id": "NbfQKC-_LoNy",
        "outputId": "d8d1827a-6feb-4887-cd45-e3b3b579f2be"
      },
      "source": [
        "start = time()\r\n",
        "c.assign(a+b)\r\n",
        "time() - start"
      ],
      "execution_count": null,
      "outputs": [
        {
          "output_type": "execute_result",
          "data": {
            "text/plain": [
              "0.0029647350311279297"
            ]
          },
          "metadata": {
            "tags": []
          },
          "execution_count": 12
        }
      ]
    },
    {
      "cell_type": "code",
      "metadata": {
        "id": "0ARaxU2sLxly"
      },
      "source": [
        "%matplotlib inline\r\n",
        "import tensorflow as tf\r\n",
        "import matplotlib.pyplot as plt\r\n",
        "import random"
      ],
      "execution_count": null,
      "outputs": []
    },
    {
      "cell_type": "code",
      "metadata": {
        "id": "V9ja1lMqBvPp"
      },
      "source": [
        "num_inputs = 2\r\n",
        "num_examples = 1000\r\n",
        "true_w = [2, -3.4]\r\n",
        "true_b = 4.2\r\n",
        "features = tf.random.normal((num_examples, num_inputs), stddev = 1)\r\n",
        "labels = true_w[0] * features[:, 0] + true_w[1] * features[:, 1] + true_b"
      ],
      "execution_count": null,
      "outputs": []
    },
    {
      "cell_type": "code",
      "metadata": {
        "colab": {
          "base_uri": "https://localhost:8080/"
        },
        "id": "HmPuPxQbDOsv",
        "outputId": "52ce15df-d6a9-4a8b-8960-4d18b1ec674d"
      },
      "source": [
        "labels.shape"
      ],
      "execution_count": null,
      "outputs": [
        {
          "output_type": "execute_result",
          "data": {
            "text/plain": [
              "TensorShape([1000])"
            ]
          },
          "metadata": {
            "tags": []
          },
          "execution_count": 13
        }
      ]
    },
    {
      "cell_type": "code",
      "metadata": {
        "id": "aX6wjY2JDRgP"
      },
      "source": [
        "# tf.random.normal(labels.shape, stddev=0.01)"
      ],
      "execution_count": null,
      "outputs": []
    },
    {
      "cell_type": "code",
      "metadata": {
        "id": "78B5HqPzCqSt"
      },
      "source": [
        "labels = labels + tf.random.normal(labels.shape, stddev=0.01)"
      ],
      "execution_count": null,
      "outputs": []
    },
    {
      "cell_type": "code",
      "metadata": {
        "colab": {
          "base_uri": "https://localhost:8080/"
        },
        "id": "Etpa082qCrRk",
        "outputId": "d766511c-c6bc-4ab3-bb6d-8bd11bb261a6"
      },
      "source": [
        "print(features[0], labels[0])"
      ],
      "execution_count": null,
      "outputs": [
        {
          "output_type": "stream",
          "text": [
            "tf.Tensor([0.20598651 0.2453297 ], shape=(2,), dtype=float32) tf.Tensor(3.7734764, shape=(), dtype=float32)\n"
          ],
          "name": "stdout"
        }
      ]
    },
    {
      "cell_type": "code",
      "metadata": {
        "colab": {
          "base_uri": "https://localhost:8080/",
          "height": 201
        },
        "id": "00zrnVQnDk-_",
        "outputId": "05657753-d883-45a8-c4c6-d967b3f3a71d"
      },
      "source": [
        "def set_figsize(figsize=(3.5, 2.5)):\r\n",
        "  plt.rcParams['figure.figsize'] = figsize\r\n",
        "set_figsize()\r\n",
        "plt.scatter(features[:, 1], labels, 1)"
      ],
      "execution_count": null,
      "outputs": [
        {
          "output_type": "execute_result",
          "data": {
            "text/plain": [
              "<matplotlib.collections.PathCollection at 0x7f809d1f9358>"
            ]
          },
          "metadata": {
            "tags": []
          },
          "execution_count": 19
        },
        {
          "output_type": "display_data",
          "data": {
            "image/png": "[encoded data removed]",
            "text/plain": [
              "<Figure size 252x180 with 1 Axes>"
            ]
          },
          "metadata": {
            "tags": [],
            "needs_background": "light"
          }
        }
      ]
    },
    {
      "cell_type": "code",
      "metadata": {
        "id": "JSbKlAp9Dyrw"
      },
      "source": [
        "def data_iter(batch_size, features, labels):\r\n",
        "  num_examples = len(features)\r\n",
        "  indices = list(range(num_examples))\r\n",
        "  random.shuggle(indices)\r\n",
        "  for i in range(0, num_examples):\r\n",
        "    j = indices[i: min(i+batch_size, num_examples)]\r\n",
        "    yield tf.gather(features, axis=0, indices=j), tf.gather(labels, axis=0, indices=j)"
      ],
      "execution_count": null,
      "outputs": []
    },
    {
      "cell_type": "code",
      "metadata": {
        "id": "grO16UUne-L3"
      },
      "source": [
        "w "
      ],
      "execution_count": null,
      "outputs": []
    },
    {
      "cell_type": "code",
      "metadata": {
        "id": "4incrHJbETI1",
        "colab": {
          "base_uri": "https://localhost:8080/",
          "height": 229
        },
        "outputId": "0a9714c0-a385-4edb-c18e-c12d5ea711ec"
      },
      "source": [
        "batch_size = 10\r\n",
        "\r\n",
        "for X, y in data_iter(batch_size, features, labels):\r\n",
        "  print(X, y)\r\n",
        "  break"
      ],
      "execution_count": null,
      "outputs": [
        {
          "output_type": "error",
          "ename": "NameError",
          "evalue": "ignored",
          "traceback": [
            "\u001b[0;31m---------------------------------------------------------------------------\u001b[0m",
            "\u001b[0;31mNameError\u001b[0m                                 Traceback (most recent call last)",
            "\u001b[0;32m<ipython-input-4-1791105d01b1>\u001b[0m in \u001b[0;36m<module>\u001b[0;34m()\u001b[0m\n\u001b[1;32m      1\u001b[0m \u001b[0mbatch_size\u001b[0m \u001b[0;34m=\u001b[0m \u001b[0;36m10\u001b[0m\u001b[0;34m\u001b[0m\u001b[0;34m\u001b[0m\u001b[0m\n\u001b[1;32m      2\u001b[0m \u001b[0;34m\u001b[0m\u001b[0m\n\u001b[0;32m----> 3\u001b[0;31m \u001b[0;32mfor\u001b[0m \u001b[0mX\u001b[0m\u001b[0;34m,\u001b[0m \u001b[0my\u001b[0m \u001b[0;32min\u001b[0m \u001b[0mdata_iter\u001b[0m\u001b[0;34m(\u001b[0m\u001b[0mbatch_size\u001b[0m\u001b[0;34m,\u001b[0m \u001b[0mfeatures\u001b[0m\u001b[0;34m,\u001b[0m \u001b[0mlabels\u001b[0m\u001b[0;34m)\u001b[0m\u001b[0;34m:\u001b[0m\u001b[0;34m\u001b[0m\u001b[0;34m\u001b[0m\u001b[0m\n\u001b[0m\u001b[1;32m      4\u001b[0m   \u001b[0mprint\u001b[0m\u001b[0;34m(\u001b[0m\u001b[0mX\u001b[0m\u001b[0;34m,\u001b[0m \u001b[0my\u001b[0m\u001b[0;34m)\u001b[0m\u001b[0;34m\u001b[0m\u001b[0;34m\u001b[0m\u001b[0m\n\u001b[1;32m      5\u001b[0m   \u001b[0;32mbreak\u001b[0m\u001b[0;34m\u001b[0m\u001b[0;34m\u001b[0m\u001b[0m\n",
            "\u001b[0;31mNameError\u001b[0m: name 'data_iter' is not defined"
          ]
        }
      ]
    },
    {
      "cell_type": "code",
      "metadata": {
        "colab": {
          "base_uri": "https://localhost:8080/",
          "height": 128
        },
        "id": "vOzcPajHfB8i",
        "outputId": "7daed230-5839-4ac9-b318-739d2cdf6304"
      },
      "source": [
        "w = tf.Variable(tf.random.normal((num_inputs, 1). stddev=0.01))\r\n",
        "b = tf.Variable(tf.zeros((1, )))"
      ],
      "execution_count": null,
      "outputs": [
        {
          "output_type": "error",
          "ename": "SyntaxError",
          "evalue": "ignored",
          "traceback": [
            "\u001b[0;36m  File \u001b[0;32m\"<ipython-input-5-3a245e82eea7>\"\u001b[0;36m, line \u001b[0;32m1\u001b[0m\n\u001b[0;31m    w = tf.Variable(tf.random.normal((num_inputs, 1). stddev=0.01))\u001b[0m\n\u001b[0m                                    ^\u001b[0m\n\u001b[0;31mSyntaxError\u001b[0m\u001b[0;31m:\u001b[0m keyword can't be an expression\n"
          ]
        }
      ]
    },
    {
      "cell_type": "code",
      "metadata": {
        "id": "nfWr7E3_e2l6"
      },
      "source": [
        "def linreg(X, w, b):\r\n",
        "  return tf.matmul(X, w) + b"
      ],
      "execution_count": null,
      "outputs": []
    },
    {
      "cell_type": "code",
      "metadata": {
        "id": "lPmjtnotfL8P"
      },
      "source": [
        "def squared_loss(y_hat, y):\r\n",
        "  return (y_hat - tf.reshape(y, y_hat.shape)) ** 2 / 2\r\n",
        "  "
      ],
      "execution_count": null,
      "outputs": []
    },
    {
      "cell_type": "code",
      "metadata": {
        "id": "xhu2URBYfVmT"
      },
      "source": [
        "def sgd(params, lr, batch_size, grads):\r\n",
        "  for i, param in enumerate(params):\r\n",
        "    param.assign_sub(lr * grads[i] / batch_size)"
      ],
      "execution_count": null,
      "outputs": []
    },
    {
      "cell_type": "code",
      "metadata": {
        "colab": {
          "base_uri": "https://localhost:8080/",
          "height": 128
        },
        "id": "QW9RH1i_fl6i",
        "outputId": "2106c252-5c0c-4d73-8b49-62ca60b94ea6"
      },
      "source": [
        "lr = 0.03\r\n",
        "num_epochs = 3\r\n",
        "net = linreg\r\n",
        "loss = squared_loss\r\n",
        "\r\n",
        "for epoch in range(num_epochs):\r\n",
        "  for X, y in data_iter(batch_size, features, labels):\r\n",
        "    with tf.GradientTape() as t:\r\n",
        "      t.watch([w, b])\r\n",
        "      l = tf.reduce_sum(loss(net(X, w, b), y))\r\n",
        "    grads = t.gradient(l, [w, b])\r\n",
        "  train_l = loss(net(feature, w, b), labels)\r\n",
        "  print('epoch %d, loss %f' % (epoch + 1, tf.reduce_mean(train_l)))"
      ],
      "execution_count": null,
      "outputs": [
        {
          "output_type": "error",
          "ename": "SyntaxError",
          "evalue": "ignored",
          "traceback": [
            "\u001b[0;36m  File \u001b[0;32m\"<ipython-input-9-dab4fdf5a6ef>\"\u001b[0;36m, line \u001b[0;32m7\u001b[0m\n\u001b[0;31m    for X, y in data_iter(batch_size, features, labels):\u001b[0m\n\u001b[0m                                                        ^\u001b[0m\n\u001b[0;31mSyntaxError\u001b[0m\u001b[0;31m:\u001b[0m unexpected EOF while parsing\n"
          ]
        }
      ]
    },
    {
      "cell_type": "code",
      "metadata": {
        "id": "TCW2f0Hmg3Dl"
      },
      "source": [
        "import tensorflow as tf\r\n",
        "from tensorflow import keras\r\n",
        "import numpy as np\r\n",
        "import time\r\n",
        "import sys\r\n",
        "import matplotlib.pyplot as plt"
      ],
      "execution_count": 3,
      "outputs": []
    },
    {
      "cell_type": "code",
      "metadata": {
        "colab": {
          "base_uri": "https://localhost:8080/"
        },
        "id": "VGR70u9sbawQ",
        "outputId": "35292b09-a604-47b6-d7a2-80bf7ae7dcc0"
      },
      "source": [
        "from tensorflow.keras.datasets import fashion_mnist\r\n",
        "(x_train, y_train), (x_test, y_test) = fashion_mnist.load_data()\r\n"
      ],
      "execution_count": 4,
      "outputs": [
        {
          "output_type": "stream",
          "text": [
            "Downloading data from https://storage.googleapis.com/tensorflow/tf-keras-datasets/train-labels-idx1-ubyte.gz\n",
            "32768/29515 [=================================] - 0s 0us/step\n",
            "Downloading data from https://storage.googleapis.com/tensorflow/tf-keras-datasets/train-images-idx3-ubyte.gz\n",
            "26427392/26421880 [==============================] - 0s 0us/step\n",
            "Downloading data from https://storage.googleapis.com/tensorflow/tf-keras-datasets/t10k-labels-idx1-ubyte.gz\n",
            "8192/5148 [===============================================] - 0s 0us/step\n",
            "Downloading data from https://storage.googleapis.com/tensorflow/tf-keras-datasets/t10k-images-idx3-ubyte.gz\n",
            "4423680/4422102 [==============================] - 0s 0us/step\n"
          ],
          "name": "stdout"
        }
      ]
    },
    {
      "cell_type": "code",
      "metadata": {
        "colab": {
          "base_uri": "https://localhost:8080/"
        },
        "id": "wdsMos51bkn-",
        "outputId": "7f42eeb6-0ae0-45f5-bc83-5d7481ceb29b"
      },
      "source": [
        "len(x_train), len(x_test)"
      ],
      "execution_count": 5,
      "outputs": [
        {
          "output_type": "execute_result",
          "data": {
            "text/plain": [
              "(60000, 10000)"
            ]
          },
          "metadata": {
            "tags": []
          },
          "execution_count": 5
        }
      ]
    },
    {
      "cell_type": "code",
      "metadata": {
        "id": "SYt95f6XbpBH"
      },
      "source": [
        "feature, label = x_train[0], y_train[0]"
      ],
      "execution_count": 6,
      "outputs": []
    },
    {
      "cell_type": "code",
      "metadata": {
        "id": "JH7Iziqbb-bQ"
      },
      "source": [
        "def get_fashion_mnist_labels(labels):\r\n",
        "  text_labels =  ['t-shirt', 'trouser', 'pullover', 'dress', 'coat',\r\n",
        "                   'sandal', 'shirt', 'sneaker', 'bag', 'ankle boot']\r\n",
        "  return [text_labels[int(i)] for i in labels]"
      ],
      "execution_count": 11,
      "outputs": []
    },
    {
      "cell_type": "code",
      "metadata": {
        "id": "U3NUdhMnclS2"
      },
      "source": [
        "def show_fashion_mnist(images, labels):\r\n",
        "    _, figs = plt.subplots(1, len(images), figsize=(12, 12))\r\n",
        "    for f, img, lbl in zip(figs, images, labels):\r\n",
        "      f.imshow(img.reshape(28, 28))\r\n",
        "      f.set_title(lbl)\r\n",
        "      f.axes.get_xaxis().set_visible(False)\r\n",
        "      f.axes.get_yaxis().set_visible(False)\r\n",
        "    plt.show()"
      ],
      "execution_count": 13,
      "outputs": []
    },
    {
      "cell_type": "code",
      "metadata": {
        "colab": {
          "base_uri": "https://localhost:8080/",
          "height": 107
        },
        "id": "MELwb--6zw9H",
        "outputId": "8989db3f-84de-46ec-998e-3a6954b35559"
      },
      "source": [
        "X, y = [], []\r\n",
        "for i in range(10):\r\n",
        "  X.append(x_train[i])\r\n",
        "  y.append(y_train[i])\r\n",
        "show_fashion_mnist(X, get_fashion_mnist_labels(y))"
      ],
      "execution_count": 15,
      "outputs": [
        {
          "output_type": "display_data",
          "data": {
            "image/png": "[encoded data removed]",
            "text/plain": [
              "<Figure size 864x864 with 10 Axes>"
            ]
          },
          "metadata": {
            "tags": [],
            "needs_background": "light"
          }
        }
      ]
    },
    {
      "cell_type": "code",
      "metadata": {
        "id": "-6ucsr3y0TJ8"
      },
      "source": [
        "batch_size = 256\r\n",
        "if sys.platform.startswith('win'):\r\n",
        "  num_workers = 0\r\n",
        "else:\r\n",
        "  num_workers = 4\r\n",
        "train_iter = tf.data.Dataset.from_tensor_slices((x_train, y_train)).batch(batch_size)"
      ],
      "execution_count": 16,
      "outputs": []
    },
    {
      "cell_type": "code",
      "metadata": {
        "colab": {
          "base_uri": "https://localhost:8080/"
        },
        "id": "U8aGVZi102lq",
        "outputId": "bb5d6811-3017-46b6-ec2c-80aeaf666b69"
      },
      "source": [
        "start = time.time()\r\n",
        "for X, y in train_iter:\r\n",
        "  continue\r\n",
        "print(\"%.2f sec\" % (time.time() - start))"
      ],
      "execution_count": 17,
      "outputs": [
        {
          "output_type": "stream",
          "text": [
            "0.19 sec\n"
          ],
          "name": "stdout"
        }
      ]
    },
    {
      "cell_type": "code",
      "metadata": {
        "id": "Q7uCocZs0_hH"
      },
      "source": [
        "from tensorflow.keras.datasets import fashion_mnist\r\n",
        "\r\n",
        "batch_size = 256\r\n",
        "(x_train, y_train), (x_test, y_test) = fashion_mnist.load_data()\r\n",
        "x_train = tf.cast(x_train, tf.float32) / 255\r\n",
        "x_test = tf.cast(x_test, tf.float32) / 255\r\n",
        "train_iter = tf.data.Dataset.from_tensor_slices((x_train, y_train)).batch(batch_size)\r\n",
        "test_iter = tf.data.Dataset.from_tensor_slices((x_test, y_test))"
      ],
      "execution_count": 18,
      "outputs": []
    },
    {
      "cell_type": "code",
      "metadata": {
        "id": "xVnYTVNn1zhx"
      },
      "source": [
        "num_inputs = 28*28\r\n",
        "num_outputs = 10\r\n",
        "W = tf.Variable(tf.random.normal(shape=(num_inputs, num_outputs)))\r\n",
        "b = tf.Variable(tf.zeros(num_outputs, dtype=tf.float32))"
      ],
      "execution_count": 19,
      "outputs": []
    },
    {
      "cell_type": "code",
      "metadata": {
        "colab": {
          "base_uri": "https://localhost:8080/"
        },
        "id": "Xtaq6llh2ZDv",
        "outputId": "bb3ad3a6-d618-4c78-afec-fc9b50113f0b"
      },
      "source": [
        "X = tf.constant([[1, 2, 3], [4, 5, 6]])\r\n",
        "tf.reduce_sum(X, axis=0,keepdims=True), tf.reduce_sum(X, axis=1, keepdims=True)"
      ],
      "execution_count": 21,
      "outputs": [
        {
          "output_type": "execute_result",
          "data": {
            "text/plain": [
              "(<tf.Tensor: shape=(1, 3), dtype=int32, numpy=array([[5, 7, 9]], dtype=int32)>,\n",
              " <tf.Tensor: shape=(2, 1), dtype=int32, numpy=\n",
              " array([[ 6],\n",
              "        [15]], dtype=int32)>)"
            ]
          },
          "metadata": {
            "tags": []
          },
          "execution_count": 21
        }
      ]
    },
    {
      "cell_type": "code",
      "metadata": {
        "id": "i3I4NOMp20hI"
      },
      "source": [
        "def softmax(logits, axis=-1):\r\n",
        "  return tf.exp(logits) / tf.reduce_sum(tf.exp(logits), axis, keepdims=True)"
      ],
      "execution_count": 22,
      "outputs": []
    },
    {
      "cell_type": "code",
      "metadata": {
        "colab": {
          "base_uri": "https://localhost:8080/"
        },
        "id": "lwFGcZRp3Tfq",
        "outputId": "37c4f12b-bd57-411e-8b0f-d31077d5a1bf"
      },
      "source": [
        "X = tf.random.normal(shape=(2, 5))\r\n",
        "X_prob = softmax(X)\r\n",
        "X_prob, tf.reduce_sum(X_prob, axis=1)"
      ],
      "execution_count": 23,
      "outputs": [
        {
          "output_type": "execute_result",
          "data": {
            "text/plain": [
              "(<tf.Tensor: shape=(2, 5), dtype=float32, numpy=\n",
              " array([[0.1788784 , 0.5643923 , 0.03194208, 0.06822283, 0.15656435],\n",
              "        [0.09576228, 0.06629306, 0.2814578 , 0.1382028 , 0.41828406]],\n",
              "       dtype=float32)>,\n",
              " <tf.Tensor: shape=(2,), dtype=float32, numpy=array([1., 1.], dtype=float32)>)"
            ]
          },
          "metadata": {
            "tags": []
          },
          "execution_count": 23
        }
      ]
    },
    {
      "cell_type": "code",
      "metadata": {
        "id": "fHEfBbjD3dqw"
      },
      "source": [
        "def net(X):\r\n",
        "  logits = tf.matmul(tf.reshape(X, shape=(-1, W.shape[0])), W)\r\n",
        "  return softmax(logits)"
      ],
      "execution_count": 26,
      "outputs": []
    },
    {
      "cell_type": "code",
      "metadata": {
        "colab": {
          "base_uri": "https://localhost:8080/"
        },
        "id": "n9j8vCZQ3h52",
        "outputId": "d943197e-600f-4c67-d760-a103816f36af"
      },
      "source": [
        "y_hat = np.array([[0.1, 0.3, 0.6], [0.3, 0.2, 0.5]])\r\n",
        "y = np.array([0, 2], dtype='int32')\r\n",
        "tf.boolean_mask(y_hat, tf.one_hot(y, depth=3))\r\n"
      ],
      "execution_count": 27,
      "outputs": [
        {
          "output_type": "execute_result",
          "data": {
            "text/plain": [
              "<tf.Tensor: shape=(2,), dtype=float64, numpy=array([0.1, 0.5])>"
            ]
          },
          "metadata": {
            "tags": []
          },
          "execution_count": 27
        }
      ]
    },
    {
      "cell_type": "code",
      "metadata": {
        "id": "Osu99bVa4Cxj"
      },
      "source": [
        "def cross_entropy(y_hat, y):\r\n",
        "  y = tf.cast(tf.reshape(y, shape=[-1, 1]), dtype=tf.int32)\r\n",
        "  y = tf.one_hot(y, depth=y_hat.shape[-1])\r\n",
        "  y = tf.cast(tf.reshape(y, shape=[-1, y_hat.shape[-1]]),dtype=tf.int32)\r\n",
        "  return -tf.math.log(tf.boolean_mask(y_hat, y) + 1e-8)\r\n"
      ],
      "execution_count": 28,
      "outputs": []
    },
    {
      "cell_type": "code",
      "metadata": {
        "id": "2uG-uE_x4gxk"
      },
      "source": [
        "def accuracy(y_hat, y):\r\n",
        "  return np.mean((tf.argmax(y_hat, axis=1) == y))"
      ],
      "execution_count": 29,
      "outputs": []
    },
    {
      "cell_type": "code",
      "metadata": {
        "colab": {
          "base_uri": "https://localhost:8080/"
        },
        "id": "UITFeGgi4syk",
        "outputId": "35d5cf5e-2255-4674-e575-fa4723064aa2"
      },
      "source": [
        "accuracy(y_hat, y)"
      ],
      "execution_count": 32,
      "outputs": [
        {
          "output_type": "execute_result",
          "data": {
            "text/plain": [
              "0.5"
            ]
          },
          "metadata": {
            "tags": []
          },
          "execution_count": 32
        }
      ]
    },
    {
      "cell_type": "code",
      "metadata": {
        "id": "w2Ih57Ol4u9Y"
      },
      "source": [
        "def evaluate_accuracy(data_iter, net):\r\n",
        "    acc_sum, n = 0.0, 0\r\n",
        "    for _, (X, y) in enumerate(data_iter):\r\n",
        "        y = tf.cast(y,dtype=tf.int64)\r\n",
        "        acc_sum += np.sum(tf.cast(tf.argmax(net(X), axis=1), dtype=tf.int64) == y)\r\n",
        "        n += y.shape[0]\r\n",
        "    return acc_sum / n"
      ],
      "execution_count": 40,
      "outputs": []
    },
    {
      "cell_type": "code",
      "metadata": {
        "colab": {
          "base_uri": "https://localhost:8080/"
        },
        "id": "ptIpc_5b6Xi6",
        "outputId": "30db4873-9f5f-4bc0-c44b-f86239af38a8"
      },
      "source": [
        "net"
      ],
      "execution_count": 43,
      "outputs": [
        {
          "output_type": "execute_result",
          "data": {
            "text/plain": [
              "<function __main__.net>"
            ]
          },
          "metadata": {
            "tags": []
          },
          "execution_count": 43
        }
      ]
    },
    {
      "cell_type": "code",
      "metadata": {
        "colab": {
          "base_uri": "https://localhost:8080/",
          "height": 303
        },
        "id": "IbmMBf-p5A8y",
        "outputId": "a2cee05f-0631-4800-dac0-5a6bca4f6ce5"
      },
      "source": [
        "print(evaluate_accuracy(test_iter, net))\r\n"
      ],
      "execution_count": 41,
      "outputs": [
        {
          "output_type": "error",
          "ename": "IndexError",
          "evalue": "ignored",
          "traceback": [
            "\u001b[0;31m---------------------------------------------------------------------------\u001b[0m",
            "\u001b[0;31mIndexError\u001b[0m                                Traceback (most recent call last)",
            "\u001b[0;32m<ipython-input-41-5311471dee5a>\u001b[0m in \u001b[0;36m<module>\u001b[0;34m()\u001b[0m\n\u001b[0;32m----> 1\u001b[0;31m \u001b[0mprint\u001b[0m\u001b[0;34m(\u001b[0m\u001b[0mevaluate_accuracy\u001b[0m\u001b[0;34m(\u001b[0m\u001b[0mtest_iter\u001b[0m\u001b[0;34m,\u001b[0m \u001b[0mnet\u001b[0m\u001b[0;34m)\u001b[0m\u001b[0;34m)\u001b[0m\u001b[0;34m\u001b[0m\u001b[0;34m\u001b[0m\u001b[0m\n\u001b[0m",
            "\u001b[0;32m<ipython-input-40-3bffbbcb347a>\u001b[0m in \u001b[0;36mevaluate_accuracy\u001b[0;34m(data_iter, net)\u001b[0m\n\u001b[1;32m      4\u001b[0m         \u001b[0my\u001b[0m \u001b[0;34m=\u001b[0m \u001b[0mtf\u001b[0m\u001b[0;34m.\u001b[0m\u001b[0mcast\u001b[0m\u001b[0;34m(\u001b[0m\u001b[0my\u001b[0m\u001b[0;34m,\u001b[0m\u001b[0mdtype\u001b[0m\u001b[0;34m=\u001b[0m\u001b[0mtf\u001b[0m\u001b[0;34m.\u001b[0m\u001b[0mint64\u001b[0m\u001b[0;34m)\u001b[0m\u001b[0;34m\u001b[0m\u001b[0;34m\u001b[0m\u001b[0m\n\u001b[1;32m      5\u001b[0m         \u001b[0macc_sum\u001b[0m \u001b[0;34m+=\u001b[0m \u001b[0mnp\u001b[0m\u001b[0;34m.\u001b[0m\u001b[0msum\u001b[0m\u001b[0;34m(\u001b[0m\u001b[0mtf\u001b[0m\u001b[0;34m.\u001b[0m\u001b[0mcast\u001b[0m\u001b[0;34m(\u001b[0m\u001b[0mtf\u001b[0m\u001b[0;34m.\u001b[0m\u001b[0margmax\u001b[0m\u001b[0;34m(\u001b[0m\u001b[0mnet\u001b[0m\u001b[0;34m(\u001b[0m\u001b[0mX\u001b[0m\u001b[0;34m)\u001b[0m\u001b[0;34m,\u001b[0m \u001b[0maxis\u001b[0m\u001b[0;34m=\u001b[0m\u001b[0;36m1\u001b[0m\u001b[0;34m)\u001b[0m\u001b[0;34m,\u001b[0m \u001b[0mdtype\u001b[0m\u001b[0;34m=\u001b[0m\u001b[0mtf\u001b[0m\u001b[0;34m.\u001b[0m\u001b[0mint64\u001b[0m\u001b[0;34m)\u001b[0m \u001b[0;34m==\u001b[0m \u001b[0my\u001b[0m\u001b[0;34m)\u001b[0m\u001b[0;34m\u001b[0m\u001b[0;34m\u001b[0m\u001b[0m\n\u001b[0;32m----> 6\u001b[0;31m         \u001b[0mn\u001b[0m \u001b[0;34m+=\u001b[0m \u001b[0my\u001b[0m\u001b[0;34m.\u001b[0m\u001b[0mshape\u001b[0m\u001b[0;34m[\u001b[0m\u001b[0;36m0\u001b[0m\u001b[0;34m]\u001b[0m\u001b[0;34m\u001b[0m\u001b[0;34m\u001b[0m\u001b[0m\n\u001b[0m\u001b[1;32m      7\u001b[0m     \u001b[0;32mreturn\u001b[0m \u001b[0macc_sum\u001b[0m \u001b[0;34m/\u001b[0m \u001b[0mn\u001b[0m\u001b[0;34m\u001b[0m\u001b[0;34m\u001b[0m\u001b[0m\n",
            "\u001b[0;32m/usr/local/lib/python3.6/dist-packages/tensorflow/python/framework/tensor_shape.py\u001b[0m in \u001b[0;36m__getitem__\u001b[0;34m(self, key)\u001b[0m\n\u001b[1;32m    887\u001b[0m       \u001b[0;32melse\u001b[0m\u001b[0;34m:\u001b[0m\u001b[0;34m\u001b[0m\u001b[0;34m\u001b[0m\u001b[0m\n\u001b[1;32m    888\u001b[0m         \u001b[0;32mif\u001b[0m \u001b[0mself\u001b[0m\u001b[0;34m.\u001b[0m\u001b[0m_v2_behavior\u001b[0m\u001b[0;34m:\u001b[0m\u001b[0;34m\u001b[0m\u001b[0;34m\u001b[0m\u001b[0m\n\u001b[0;32m--> 889\u001b[0;31m           \u001b[0;32mreturn\u001b[0m \u001b[0mself\u001b[0m\u001b[0;34m.\u001b[0m\u001b[0m_dims\u001b[0m\u001b[0;34m[\u001b[0m\u001b[0mkey\u001b[0m\u001b[0;34m]\u001b[0m\u001b[0;34m.\u001b[0m\u001b[0mvalue\u001b[0m\u001b[0;34m\u001b[0m\u001b[0;34m\u001b[0m\u001b[0m\n\u001b[0m\u001b[1;32m    890\u001b[0m         \u001b[0;32melse\u001b[0m\u001b[0;34m:\u001b[0m\u001b[0;34m\u001b[0m\u001b[0;34m\u001b[0m\u001b[0m\n\u001b[1;32m    891\u001b[0m           \u001b[0;32mreturn\u001b[0m \u001b[0mself\u001b[0m\u001b[0;34m.\u001b[0m\u001b[0m_dims\u001b[0m\u001b[0;34m[\u001b[0m\u001b[0mkey\u001b[0m\u001b[0;34m]\u001b[0m\u001b[0;34m\u001b[0m\u001b[0;34m\u001b[0m\u001b[0m\n",
            "\u001b[0;31mIndexError\u001b[0m: list index out of range"
          ]
        }
      ]
    },
    {
      "cell_type": "code",
      "metadata": {
        "id": "oRwCAWES5j5b"
      },
      "source": [
        ""
      ],
      "execution_count": null,
      "outputs": []
    }
  ]
}