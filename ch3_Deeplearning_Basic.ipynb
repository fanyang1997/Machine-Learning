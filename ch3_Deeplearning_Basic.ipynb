{
  "nbformat": 4,
  "nbformat_minor": 0,
  "metadata": {
    "colab": {
      "name": "ch3 Deeplearning Basic.ipynb",
      "provenance": [],
      "authorship_tag": "ABX9TyPg7mrB+J2cSdyw9JYRDNy4",
      "include_colab_link": true
    },
    "kernelspec": {
      "name": "python3",
      "display_name": "Python 3"
    }
  },
  "cells": [
    {
      "cell_type": "markdown",
      "metadata": {
        "id": "view-in-github",
        "colab_type": "text"
      },
      "source": [
        "<a href=\"https://colab.research.google.com/github/joeytai/Machine-Learning/blob/main/ch3_Deeplearning_Basic.ipynb\" target=\"_parent\"><img src=\"https://colab.research.google.com/assets/colab-badge.svg\" alt=\"Open In Colab\"/></a>"
      ]
    },
    {
      "cell_type": "code",
      "metadata": {
        "id": "nCPiBD_AI391"
      },
      "source": [
        "# set house area x_1, house year x_2, house price y\r\n",
        "# build a regression model to predict house price\r\n",
        "# y = x_1 * w_1 + x_2 * w_2 + b"
      ],
      "execution_count": 1,
      "outputs": []
    },
    {
      "cell_type": "markdown",
      "metadata": {
        "id": "yhvj_o2PJS9n"
      },
      "source": [
        "Loss function\r\n",
        "\r\n",
        "$L^i(w_1, w_2, b) =  \\frac{1}{2} (\\hat{y^i} - y ^i)^2$\r\n",
        "\r\n",
        "Cost function\r\n"
      ]
    },
    {
      "cell_type": "code",
      "metadata": {
        "id": "pX8GpIJXJub1"
      },
      "source": [
        "#"
      ],
      "execution_count": null,
      "outputs": []
    },
    {
      "cell_type": "code",
      "metadata": {
        "id": "UYDtyu9ZJujf"
      },
      "source": [
        "import tensorflow as tf\r\n",
        "from time import time"
      ],
      "execution_count": 3,
      "outputs": []
    },
    {
      "cell_type": "code",
      "metadata": {
        "id": "Tm0oDzo2Jumc"
      },
      "source": [
        "a = tf.ones((1000, ))\r\n",
        "b = tf.ones((1000, ))"
      ],
      "execution_count": 4,
      "outputs": []
    },
    {
      "cell_type": "code",
      "metadata": {
        "id": "oGf-G7HvLjAU"
      },
      "source": [
        ""
      ],
      "execution_count": 6,
      "outputs": []
    },
    {
      "cell_type": "code",
      "metadata": {
        "colab": {
          "base_uri": "https://localhost:8080/"
        },
        "id": "Y15UtspUJupV",
        "outputId": "086896b7-48dd-436e-f0c7-23ba8cfe6911"
      },
      "source": [
        "start = time()\r\n",
        "c = tf.Variable(tf.zeros((1000, )))\r\n",
        "for i in range(1000):\r\n",
        "  c[i].assign(a[i] + b[i])\r\n",
        "time() - start"
      ],
      "execution_count": 7,
      "outputs": [
        {
          "output_type": "execute_result",
          "data": {
            "text/plain": [
              "0.4452383518218994"
            ]
          },
          "metadata": {
            "tags": []
          },
          "execution_count": 7
        }
      ]
    },
    {
      "cell_type": "code",
      "metadata": {
        "colab": {
          "base_uri": "https://localhost:8080/"
        },
        "id": "NbfQKC-_LoNy",
        "outputId": "d8d1827a-6feb-4887-cd45-e3b3b579f2be"
      },
      "source": [
        "start = time()\r\n",
        "c.assign(a+b)\r\n",
        "time() - start"
      ],
      "execution_count": 12,
      "outputs": [
        {
          "output_type": "execute_result",
          "data": {
            "text/plain": [
              "0.0029647350311279297"
            ]
          },
          "metadata": {
            "tags": []
          },
          "execution_count": 12
        }
      ]
    },
    {
      "cell_type": "code",
      "metadata": {
        "id": "0ARaxU2sLxly"
      },
      "source": [
        ""
      ],
      "execution_count": null,
      "outputs": []
    }
  ]
}