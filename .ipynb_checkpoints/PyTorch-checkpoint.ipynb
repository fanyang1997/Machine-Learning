{
  "nbformat": 4,
  "nbformat_minor": 0,
  "metadata": {
    "colab": {
      "name": "PyTorch.ipynb",
      "provenance": []
    },
    "kernelspec": {
      "name": "python3",
      "display_name": "Python 3"
    }
  },
  "cells": [
    {
      "cell_type": "code",
      "metadata": {
        "id": "NRbSwyzE64Cl"
      },
      "source": [
        "import torch\n",
        "import torch.nn.functional as F\n",
        "import torchvision\n",
        "import torchvision.transforms as transforms\n",
        "import sklearn.metrics as metrics"
      ],
      "execution_count": null,
      "outputs": []
    },
    {
      "cell_type": "code",
      "metadata": {
        "id": "zGA3MSHl64sX",
        "colab": {
          "base_uri": "https://localhost:8080/"
        },
        "outputId": "3a16560d-39d8-4d90-86a5-f5e6db28bdbf"
      },
      "source": [
        "x = torch.Tensor(2, 3)\r\n",
        "x"
      ],
      "execution_count": null,
      "outputs": [
        {
          "output_type": "execute_result",
          "data": {
            "text/plain": [
              "tensor([[-9.5266e+35,  3.0858e-41,  3.7835e-44],\n",
              "        [ 0.0000e+00,         nan,  0.0000e+00]])"
            ]
          },
          "metadata": {
            "tags": []
          },
          "execution_count": 2
        }
      ]
    },
    {
      "cell_type": "code",
      "metadata": {
        "colab": {
          "base_uri": "https://localhost:8080/"
        },
        "id": "x_FvEIOTvkAm",
        "outputId": "cc2dbacd-0c10-46b8-c6ac-3b5331061a9f"
      },
      "source": [
        "y = torch.Tensor(4, 2, 3)\r\n",
        "y"
      ],
      "execution_count": null,
      "outputs": [
        {
          "output_type": "execute_result",
          "data": {
            "text/plain": [
              "tensor([[[0.0000e+00, 0.0000e+00, 7.0065e-44],\n",
              "         [6.8664e-44, 6.3058e-44, 6.7262e-44]],\n",
              "\n",
              "        [[7.0065e-44, 6.3058e-44, 7.0065e-44],\n",
              "         [7.5670e-44, 1.1771e-43, 6.7262e-44]],\n",
              "\n",
              "        [[7.9874e-44, 8.1275e-44, 7.4269e-44],\n",
              "         [6.7262e-44, 8.1275e-44, 6.7262e-44]],\n",
              "\n",
              "        [[7.5670e-44, 6.4460e-44, 7.1466e-44],\n",
              "         [6.7262e-44, 7.5670e-44, 7.8473e-44]]])"
            ]
          },
          "metadata": {
            "tags": []
          },
          "execution_count": 3
        }
      ]
    },
    {
      "cell_type": "code",
      "metadata": {
        "colab": {
          "base_uri": "https://localhost:8080/"
        },
        "id": "0fl1rWYEvs78",
        "outputId": "23463f7f-e7c1-4764-aadf-6e380cbb8b7a"
      },
      "source": [
        "y.shape"
      ],
      "execution_count": null,
      "outputs": [
        {
          "output_type": "execute_result",
          "data": {
            "text/plain": [
              "torch.Size([4, 2, 3])"
            ]
          },
          "metadata": {
            "tags": []
          },
          "execution_count": 4
        }
      ]
    },
    {
      "cell_type": "code",
      "metadata": {
        "colab": {
          "base_uri": "https://localhost:8080/"
        },
        "id": "St-dIpfCvumo",
        "outputId": "8631a220-6361-4a55-8bff-2568e415a6fb"
      },
      "source": [
        "a = torch.rand(5, 3)\r\n",
        "b = torch.rand(5, 3)\r\n",
        "# option 1\r\n",
        "# a + b\r\n",
        "# option 2\r\n",
        "# torch.add(a, b)\r\n",
        "(a+b) == torch.add(a, b)"
      ],
      "execution_count": null,
      "outputs": [
        {
          "output_type": "execute_result",
          "data": {
            "text/plain": [
              "tensor([[True, True, True],\n",
              "        [True, True, True],\n",
              "        [True, True, True],\n",
              "        [True, True, True],\n",
              "        [True, True, True]])"
            ]
          },
          "metadata": {
            "tags": []
          },
          "execution_count": 7
        }
      ]
    },
    {
      "cell_type": "code",
      "metadata": {
        "id": "qeX7nmxsv7Xd"
      },
      "source": [
        ""
      ],
      "execution_count": null,
      "outputs": []
    }
  ]
}