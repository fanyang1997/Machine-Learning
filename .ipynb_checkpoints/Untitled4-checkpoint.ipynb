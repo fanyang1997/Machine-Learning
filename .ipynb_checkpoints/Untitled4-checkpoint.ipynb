{
  "nbformat": 4,
  "nbformat_minor": 0,
  "metadata": {
    "colab": {
      "name": "Untitled4.ipynb",
      "provenance": [],
      "authorship_tag": "ABX9TyP/2ddr+ZzV4vXSjCNQcJZC",
      "include_colab_link": true
    },
    "kernelspec": {
      "name": "python3",
      "display_name": "Python 3"
    }
  },
  "cells": [
    {
      "cell_type": "markdown",
      "metadata": {
        "id": "view-in-github",
        "colab_type": "text"
      },
      "source": [
        "<a href=\"https://colab.research.google.com/github/joeytai/Machine-Learning/blob/main/Untitled4.ipynb\" target=\"_parent\"><img src=\"https://colab.research.google.com/assets/colab-badge.svg\" alt=\"Open In Colab\"/></a>"
      ]
    },
    {
      "cell_type": "code",
      "metadata": {
        "id": "Mi1E9bRyTzLY"
      },
      "source": [
        "import tensorflow as tf\r\n",
        "import numpy as np"
      ],
      "execution_count": 1,
      "outputs": []
    },
    {
      "cell_type": "code",
      "metadata": {
        "id": "gQoDIlEPT4QU"
      },
      "source": [
        "net = tf.keras.models.Sequential([\r\n",
        "    tf.keras.layers.Conv2D(filters=6,kernel_size=5,activation='sigmoid',input_shape=(28,28,1)),\r\n",
        "    tf.keras.layers.MaxPool2D(pool_size=2, strides=2),\r\n",
        "    tf.keras.layers.Conv2D(filters=16,kernel_size=5,activation='sigmoid'),\r\n",
        "    tf.keras.layers.MaxPool2D(pool_size=2, strides=2),\r\n",
        "    tf.keras.layers.Flatten(),\r\n",
        "    tf.keras.layers.Dense(120,activation='sigmoid'),\r\n",
        "    tf.keras.layers.Dense(84,activation='sigmoid'),\r\n",
        "    tf.keras.layers.Dense(10,activation='sigmoid')\r\n",
        "])\r\n"
      ],
      "execution_count": 21,
      "outputs": []
    },
    {
      "cell_type": "code",
      "metadata": {
        "colab": {
          "base_uri": "https://localhost:8080/"
        },
        "id": "NCT9glMYUs2K",
        "outputId": "cf44c8d3-81c5-4cac-a833-7e50321f598a"
      },
      "source": [
        "X = tf.random.uniform((1, 28, 28, 1))\r\n",
        "for layer in net.layers:\r\n",
        "  X = layer(X)\r\n",
        "  print(layer.name, 'output shape\\t', X.shape)"
      ],
      "execution_count": 22,
      "outputs": [
        {
          "output_type": "stream",
          "text": [
            "conv2d_2 output shape\t (1, 24, 24, 6)\n",
            "max_pooling2d_2 output shape\t (1, 12, 12, 6)\n",
            "conv2d_3 output shape\t (1, 8, 8, 16)\n",
            "max_pooling2d_3 output shape\t (1, 4, 4, 16)\n",
            "flatten_1 output shape\t (1, 256)\n",
            "dense_3 output shape\t (1, 120)\n",
            "dense_4 output shape\t (1, 84)\n",
            "dense_5 output shape\t (1, 10)\n"
          ],
          "name": "stdout"
        }
      ]
    },
    {
      "cell_type": "code",
      "metadata": {
        "colab": {
          "base_uri": "https://localhost:8080/"
        },
        "id": "R6QN8e88U7E7",
        "outputId": "29461669-1bf3-4066-88c9-f57ac3e0b259"
      },
      "source": [
        "fashion_mnist = tf.keras.datasets.fashion_mnist\r\n",
        "\r\n",
        "(train_images, train_labels), (test_images, test_labels) = fashion_mnist.load_data()\r\n"
      ],
      "execution_count": 16,
      "outputs": [
        {
          "output_type": "stream",
          "text": [
            "Downloading data from https://storage.googleapis.com/tensorflow/tf-keras-datasets/train-labels-idx1-ubyte.gz\n",
            "32768/29515 [=================================] - 0s 0us/step\n",
            "Downloading data from https://storage.googleapis.com/tensorflow/tf-keras-datasets/train-images-idx3-ubyte.gz\n",
            "26427392/26421880 [==============================] - 0s 0us/step\n",
            "Downloading data from https://storage.googleapis.com/tensorflow/tf-keras-datasets/t10k-labels-idx1-ubyte.gz\n",
            "8192/5148 [===============================================] - 0s 0us/step\n",
            "Downloading data from https://storage.googleapis.com/tensorflow/tf-keras-datasets/t10k-images-idx3-ubyte.gz\n",
            "4423680/4422102 [==============================] - 0s 0us/step\n"
          ],
          "name": "stdout"
        }
      ]
    },
    {
      "cell_type": "code",
      "metadata": {
        "colab": {
          "base_uri": "https://localhost:8080/"
        },
        "id": "WJvnzvIqVFpN",
        "outputId": "772d1cae-dfcd-43c4-dc97-a2073a6d6a5a"
      },
      "source": [
        "train_images = tf.reshape(train_images, (train_images.shape[0],train_images.shape[1],train_images.shape[2], 1))\r\n",
        "print(train_images.shape)\r\n",
        "\r\n",
        "test_images = tf.reshape(test_images, (test_images.shape[0],test_images.shape[1],test_images.shape[2], 1))\r\n"
      ],
      "execution_count": 23,
      "outputs": [
        {
          "output_type": "stream",
          "text": [
            "(60000, 28, 28, 1)\n"
          ],
          "name": "stdout"
        }
      ]
    },
    {
      "cell_type": "code",
      "metadata": {
        "id": "OlmxfkEFVSKr"
      },
      "source": [
        "optimizer = tf.keras.optimizers.SGD(learning_rate=0.9, momentum=0.0, nesterov=False)\r\n",
        "\r\n",
        "net.compile(optimizer=optimizer,\r\n",
        "              loss='sparse_categorical_crossentropy',\r\n",
        "              metrics=['accuracy'])\r\n"
      ],
      "execution_count": 24,
      "outputs": []
    },
    {
      "cell_type": "code",
      "metadata": {
        "colab": {
          "base_uri": "https://localhost:8080/"
        },
        "id": "CYSBxoyAVsBu",
        "outputId": "b4315595-66d4-4c1a-f315-05c9d4b68bd9"
      },
      "source": [
        "net.fit(train_images, train_labels, epochs=5, validation_split=0.2)\r\n"
      ],
      "execution_count": 25,
      "outputs": [
        {
          "output_type": "stream",
          "text": [
            "Epoch 1/5\n",
            "1500/1500 [==============================] - 23s 15ms/step - loss: 1.5132 - accuracy: 0.4089 - val_loss: 0.6622 - val_accuracy: 0.7200\n",
            "Epoch 2/5\n",
            "1500/1500 [==============================] - 23s 15ms/step - loss: 0.6472 - accuracy: 0.7461 - val_loss: 0.6246 - val_accuracy: 0.7478\n",
            "Epoch 3/5\n",
            "1500/1500 [==============================] - 23s 15ms/step - loss: 0.6032 - accuracy: 0.7628 - val_loss: 0.5677 - val_accuracy: 0.7707\n",
            "Epoch 4/5\n",
            "1500/1500 [==============================] - 23s 15ms/step - loss: 0.5265 - accuracy: 0.7977 - val_loss: 0.5319 - val_accuracy: 0.7969\n",
            "Epoch 5/5\n",
            "1500/1500 [==============================] - 23s 16ms/step - loss: 0.5153 - accuracy: 0.8013 - val_loss: 0.5877 - val_accuracy: 0.7648\n"
          ],
          "name": "stdout"
        },
        {
          "output_type": "execute_result",
          "data": {
            "text/plain": [
              "<tensorflow.python.keras.callbacks.History at 0x7fb27284e2e8>"
            ]
          },
          "metadata": {
            "tags": []
          },
          "execution_count": 25
        }
      ]
    },
    {
      "cell_type": "code",
      "metadata": {
        "colab": {
          "base_uri": "https://localhost:8080/"
        },
        "id": "iu8CAbtWVzfo",
        "outputId": "bfbb5eee-3508-40c7-f740-eb9be4f2ab6e"
      },
      "source": [
        "net.evaluate(test_images, test_labels, verbose=2)\r\n"
      ],
      "execution_count": 26,
      "outputs": [
        {
          "output_type": "stream",
          "text": [
            "313/313 - 2s - loss: 0.6070 - accuracy: 0.7584\n"
          ],
          "name": "stdout"
        },
        {
          "output_type": "execute_result",
          "data": {
            "text/plain": [
              "[0.6069739460945129, 0.758400022983551]"
            ]
          },
          "metadata": {
            "tags": []
          },
          "execution_count": 26
        }
      ]
    },
    {
      "cell_type": "code",
      "metadata": {
        "id": "lnr5ETWYV4V9"
      },
      "source": [
        ""
      ],
      "execution_count": null,
      "outputs": []
    }
  ]
}